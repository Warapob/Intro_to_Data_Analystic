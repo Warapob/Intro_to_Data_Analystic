{
 "cells": [
  {
   "cell_type": "markdown",
   "metadata": {},
   "source": [
    "# BOSTON Linear Regression Model"
   ]
  },
  {
   "cell_type": "code",
   "execution_count": 1,
   "metadata": {},
   "outputs": [],
   "source": [
    "import pandas as pd\n",
    "import numpy as np\n",
    "import matplotlib.pyplot as plt\n",
    "import seaborn as sns\n",
    "%matplotlib inline\n",
    "from sklearn.model_selection import train_test_split\n",
    "from sklearn.linear_model import LinearRegression\n",
    "from sklearn import metrics"
   ]
  },
  {
   "cell_type": "code",
   "execution_count": 2,
   "metadata": {},
   "outputs": [],
   "source": [
    "def modelSummary(name,X,y,model):\n",
    "    print(name,\"\\n\",\\\n",
    "        y.name,\"=\")\n",
    "    for i in range(0,len(X.columns)):\n",
    "        print(model.coef_[i],\"*\",X.columns[i],\"+\")\n",
    "    print(model.intercept_)"
   ]
  },
  {
   "cell_type": "code",
   "execution_count": 3,
   "metadata": {},
   "outputs": [],
   "source": [
    "df = pd.read_csv('https://rathachai.github.io/DA101/data/boston.csv')\n"
   ]
  },
  {
   "cell_type": "code",
   "execution_count": 4,
   "metadata": {},
   "outputs": [],
   "source": [
    "df[\"lstat\"] = df[\"lstat\"].apply(np.log)"
   ]
  },
  {
   "cell_type": "code",
   "execution_count": 5,
   "metadata": {},
   "outputs": [],
   "source": [
    "X = df[[\"lstat\",\"rm\"]]\n",
    "y = df[\"medv\"]\n"
   ]
  },
  {
   "cell_type": "code",
   "execution_count": 6,
   "metadata": {},
   "outputs": [
    {
     "data": {
      "text/plain": [
       "LinearRegression()"
      ]
     },
     "execution_count": 6,
     "metadata": {},
     "output_type": "execute_result"
    }
   ],
   "source": [
    "model = LinearRegression()\n",
    "model.fit(X,y)"
   ]
  },
  {
   "cell_type": "code",
   "execution_count": 7,
   "metadata": {},
   "outputs": [
    {
     "name": "stdout",
     "output_type": "stream",
     "text": [
      "MODEL \n",
      " medv =\n",
      "-9.685463293900552 * lstat +\n",
      "3.5977011197200057 * rm +\n",
      "22.886466246629507\n"
     ]
    }
   ],
   "source": [
    "modelSummary('MODEL',X,y,model)"
   ]
  },
  {
   "cell_type": "code",
   "execution_count": 8,
   "metadata": {},
   "outputs": [
    {
     "name": "stdout",
     "output_type": "stream",
     "text": [
      "medv =  25.32 x 1000 Dollas\n"
     ]
    }
   ],
   "source": [
    "#@title Set Your Parameters { run: \"auto\" }\n",
    "lstat_val =6 #@param {type:\"slider\", min:0, max:30, step:0.5}\n",
    "rm_val =5.5 #@param {type:\"slider\", min:0, max:10, step:0.5}\n",
    "\n",
    "medv_val = model.predict([[np.log(lstat_val),rm_val]])\n",
    "print(\"medv = \", np.round(medv_val[0],2), \"x 1000 Dollas\")"
   ]
  }
 ],
 "metadata": {
  "kernelspec": {
   "display_name": "Python 3.8.13 ('base')",
   "language": "python",
   "name": "python3"
  },
  "language_info": {
   "codemirror_mode": {
    "name": "ipython",
    "version": 3
   },
   "file_extension": ".py",
   "mimetype": "text/x-python",
   "name": "python",
   "nbconvert_exporter": "python",
   "pygments_lexer": "ipython3",
   "version": "3.8.13"
  },
  "orig_nbformat": 4,
  "vscode": {
   "interpreter": {
    "hash": "f08154012ddadd8e950e6e9e035c7a7b32c136e7647e9b7c77e02eb723a8bedb"
   }
  }
 },
 "nbformat": 4,
 "nbformat_minor": 2
}
