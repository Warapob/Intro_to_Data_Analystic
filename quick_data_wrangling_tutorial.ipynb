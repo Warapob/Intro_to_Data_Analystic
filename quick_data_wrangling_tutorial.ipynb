{
  "cells": [
    {
      "cell_type": "markdown",
      "metadata": {
        "id": "V6OzE02uK7Aj"
      },
      "source": [
        "# **A Quick Data Wrangling Tutorial**\n",
        "> ## *Author* : [Rathachai CHAWUTHAI](https://rathachai.creatier.pro/) , Ph.D\n",
        "> ### *Affiliation* : Computer Engineering, King Mongkut's Institute of Technology Ladkrabang (KMITL)\n",
        "> #### *Updated Date* : 2021-08-18\n",
        "---"
      ]
    },
    {
      "cell_type": "markdown",
      "metadata": {
        "id": "ZtOOTexVLM4w"
      },
      "source": [
        "> <a rel=\"license\" href=\"http://creativecommons.org/licenses/by-nc-sa/4.0/\"><img alt=\"Creative Commons License\" style=\"border-width:0\" src=\"https://i.creativecommons.org/l/by-nc-sa/4.0/88x31.png\" /></a><br />This work is licensed under a <a rel=\"license\" href=\"http://creativecommons.org/licenses/by-nc-sa/4.0/\">Creative Commons Attribution-NonCommercial-ShareAlike 4.0 International License</a>.\n",
        "\n",
        "\n",
        "\n",
        "---"
      ]
    },
    {
      "cell_type": "markdown",
      "metadata": {
        "id": "nrr9PvVpLRGN"
      },
      "source": [
        "## About Datasets"
      ]
    },
    {
      "cell_type": "markdown",
      "metadata": {
        "id": "svzdpmOsKviT"
      },
      "source": [
        "**Customer Churn Datasets**\n",
        "\n",
        "https://docs.google.com/spreadsheets/d/e/2PACX-1vQxcCDTAalMyu4Tc_eelskRhZXldH9TSliZLFcW39_LlzOkIReCRdK0V7JR6APjJH-EluveA5c-m237/pubhtml"
      ]
    },
    {
      "cell_type": "markdown",
      "metadata": {
        "id": "HhhlJ_PMLZN7"
      },
      "source": [
        "## Import Libraries"
      ]
    },
    {
      "cell_type": "code",
      "execution_count": null,
      "metadata": {
        "id": "Tu6PfMK4JvcZ"
      },
      "outputs": [],
      "source": [
        "import numpy as np\n",
        "import pandas as pd\n",
        "import matplotlib_inline as plt\n"
      ]
    },
    {
      "cell_type": "markdown",
      "metadata": {
        "id": "EsVVWJkBLjUI"
      },
      "source": [
        "## Load Datasets"
      ]
    },
    {
      "cell_type": "code",
      "execution_count": null,
      "metadata": {
        "id": "y29wggOPKDUt"
      },
      "outputs": [],
      "source": [
        "cust_csv_path = \"https://docs.google.com/spreadsheets/d/e/2PACX-1vQxcCDTAalMyu4Tc_eelskRhZXldH9TSliZLFcW39_LlzOkIReCRdK0V7JR6APjJH-EluveA5c-m237/pub?gid=0&single=true&output=csv\"\n",
        "churn_csv_path = \"https://docs.google.com/spreadsheets/d/e/2PACX-1vQxcCDTAalMyu4Tc_eelskRhZXldH9TSliZLFcW39_LlzOkIReCRdK0V7JR6APjJH-EluveA5c-m237/pub?gid=755674277&single=true&output=csv\""
      ]
    },
    {
      "cell_type": "code",
      "execution_count": null,
      "metadata": {
        "id": "K548V1lTJys1"
      },
      "outputs": [],
      "source": [
        "cust_df = pd.read_csv(cust_csv_path)"
      ]
    },
    {
      "cell_type": "code",
      "execution_count": null,
      "metadata": {
        "id": "kXR7b-MDJ3PK"
      },
      "outputs": [],
      "source": [
        "churn_df = pd.read_csv(churn_csv_path)"
      ]
    },
    {
      "cell_type": "code",
      "execution_count": null,
      "metadata": {
        "id": "HpUKy5IbKRAj"
      },
      "outputs": [],
      "source": [
        "cust_df"
      ]
    },
    {
      "cell_type": "code",
      "execution_count": null,
      "metadata": {
        "id": "XOv1RO_4KXNt"
      },
      "outputs": [],
      "source": [
        "churn_df"
      ]
    },
    {
      "cell_type": "markdown",
      "metadata": {
        "id": "ZamIHS2pLrwN"
      },
      "source": [
        "## Merge Datasets"
      ]
    },
    {
      "cell_type": "code",
      "execution_count": null,
      "metadata": {
        "id": "ckpZEoCwMJZm"
      },
      "outputs": [],
      "source": [
        "df = pd.merge(cust_df, churn_df, how=\"left\", on=\"cust_id\")"
      ]
    },
    {
      "cell_type": "code",
      "execution_count": null,
      "metadata": {
        "id": "G3VupiJ2Msj7"
      },
      "outputs": [],
      "source": [
        "df"
      ]
    },
    {
      "cell_type": "markdown",
      "metadata": {
        "id": "cV7C-yI-MyqW"
      },
      "source": [
        "## Drop Missing Values"
      ]
    },
    {
      "cell_type": "code",
      "execution_count": null,
      "metadata": {
        "id": "TVqUQ4Z6M5ET"
      },
      "outputs": [],
      "source": [
        "df.info()"
      ]
    },
    {
      "cell_type": "code",
      "execution_count": null,
      "metadata": {
        "id": "saL7OUi2NhbW"
      },
      "outputs": [],
      "source": [
        "df.dropna(subset=[\"churn\"], inplace=True)"
      ]
    },
    {
      "cell_type": "code",
      "execution_count": null,
      "metadata": {
        "id": "zRrjYgGA4mPi"
      },
      "outputs": [],
      "source": [
        "df"
      ]
    },
    {
      "cell_type": "code",
      "execution_count": null,
      "metadata": {
        "id": "nbJqMJs84oXM"
      },
      "outputs": [],
      "source": [
        "df.info()"
      ]
    },
    {
      "cell_type": "markdown",
      "metadata": {
        "id": "R5gg9v73Uiwr"
      },
      "source": [
        "## Cap the Outliners"
      ]
    },
    {
      "cell_type": "code",
      "execution_count": null,
      "metadata": {
        "id": "Lqd5R6l6Uh9a"
      },
      "outputs": [],
      "source": [
        "%matplotlib\n",
        "df.boxplot(column=\"height\")"
      ]
    },
    {
      "cell_type": "code",
      "execution_count": null,
      "metadata": {
        "id": "pwmtnkN6MfLZ"
      },
      "outputs": [],
      "source": [
        "df.dropna().sort_values('height')[['height']].plot.bar(use_index=False, figsize=(20,3), xticks=[], xlim=(0,1200), ylim=(100,500))"
      ]
    },
    {
      "cell_type": "code",
      "execution_count": null,
      "metadata": {
        "id": "5gxr271qUoLg"
      },
      "outputs": [],
      "source": [
        "low, high = df[\"height\"].quantile([0.05, 0.95])\n",
        "print(low, high)"
      ]
    },
    {
      "cell_type": "code",
      "execution_count": null,
      "metadata": {
        "id": "X1bZy16aUwg1"
      },
      "outputs": [],
      "source": [
        "df.loc[df[df[\"height\"]<low].index,\"height\"]=low"
      ]
    },
    {
      "cell_type": "code",
      "execution_count": null,
      "metadata": {
        "id": "KEKLzL9DVC2e"
      },
      "outputs": [],
      "source": [
        "df.loc[df[df[\"height\"]>high].index,\"height\"]=high"
      ]
    },
    {
      "cell_type": "code",
      "execution_count": null,
      "metadata": {
        "id": "Bq0sBdGtVKiG"
      },
      "outputs": [],
      "source": [
        "df.boxplot(column=\"height\")"
      ]
    },
    {
      "cell_type": "markdown",
      "metadata": {
        "id": "rTocN0xTOKyp"
      },
      "source": [
        "## Infer Missing Values (I)\n",
        "\n"
      ]
    },
    {
      "cell_type": "code",
      "execution_count": null,
      "metadata": {
        "id": "SLyRdLTEON91"
      },
      "outputs": [],
      "source": [
        "df.info()"
      ]
    },
    {
      "cell_type": "code",
      "execution_count": null,
      "metadata": {
        "id": "XWL2CuemPJj5"
      },
      "outputs": [],
      "source": [
        "df.sort_values(\"height\")"
      ]
    },
    {
      "cell_type": "code",
      "execution_count": null,
      "metadata": {
        "id": "qmEVE92OPP2L"
      },
      "outputs": [],
      "source": [
        "df[\"height\"].fillna(0)"
      ]
    },
    {
      "cell_type": "code",
      "execution_count": null,
      "metadata": {
        "id": "MrvWBE27QE-Q"
      },
      "outputs": [],
      "source": [
        "df[\"height\"].fillna(df[\"height\"].mean())"
      ]
    },
    {
      "cell_type": "code",
      "execution_count": null,
      "metadata": {
        "id": "Y7MxI8AwRCqn"
      },
      "outputs": [],
      "source": [
        "df.boxplot(column=\"height\")"
      ]
    },
    {
      "cell_type": "code",
      "execution_count": null,
      "metadata": {
        "id": "GPD3WL2CSXoH"
      },
      "outputs": [],
      "source": [
        "df.boxplot(column=\"height\", by=\"gender\")"
      ]
    },
    {
      "cell_type": "code",
      "execution_count": null,
      "metadata": {
        "id": "YwjqIhgWQg34"
      },
      "outputs": [],
      "source": [
        "# Recommended !!!!\n",
        "df['height'].fillna(df.groupby('gender')['height'].transform('mean'))"
      ]
    },
    {
      "cell_type": "code",
      "execution_count": null,
      "metadata": {
        "id": "EAh9QnrnQ6sQ"
      },
      "outputs": [],
      "source": [
        "df['height'] = df['height'].fillna(df.groupby('gender')['height'].transform('mean'))"
      ]
    },
    {
      "cell_type": "code",
      "execution_count": null,
      "metadata": {
        "id": "DN5E2H2oRAMV"
      },
      "outputs": [],
      "source": [
        "df.info()"
      ]
    },
    {
      "cell_type": "markdown",
      "metadata": {
        "id": "jPYblBdEQ59L"
      },
      "source": [
        "## Extract Date Time"
      ]
    },
    {
      "cell_type": "code",
      "execution_count": null,
      "metadata": {
        "id": "DTaiRXI7TRtz"
      },
      "outputs": [],
      "source": [
        "df[\"birth\"]"
      ]
    },
    {
      "cell_type": "code",
      "execution_count": null,
      "metadata": {
        "id": "PZKImnv9TC8y"
      },
      "outputs": [],
      "source": [
        "df[\"birth\"] = pd.to_datetime(df[\"birth\"], format='%m/%d/%Y')"
      ]
    },
    {
      "cell_type": "code",
      "execution_count": null,
      "metadata": {
        "id": "CkqE2GSETb9b"
      },
      "outputs": [],
      "source": [
        "df[\"birth\"]"
      ]
    },
    {
      "cell_type": "code",
      "execution_count": null,
      "metadata": {
        "id": "IfAKl1PvTgHc"
      },
      "outputs": [],
      "source": [
        "df[\"birth\"].dt.year"
      ]
    },
    {
      "cell_type": "code",
      "execution_count": null,
      "metadata": {
        "id": "NQ1RFoJsTmVd"
      },
      "outputs": [],
      "source": [
        "2022 - df[\"birth\"].dt.year"
      ]
    },
    {
      "cell_type": "code",
      "execution_count": null,
      "metadata": {
        "id": "ngWV5NZwTpmi"
      },
      "outputs": [],
      "source": [
        "df[\"age\"] = 2022 - df[\"birth\"].dt.year"
      ]
    },
    {
      "cell_type": "code",
      "execution_count": null,
      "metadata": {
        "id": "QU7gIUUvTtym"
      },
      "outputs": [],
      "source": [
        "df"
      ]
    },
    {
      "cell_type": "markdown",
      "metadata": {
        "id": "fyezDRA_WxG6"
      },
      "source": [
        "## Bining"
      ]
    },
    {
      "cell_type": "code",
      "execution_count": null,
      "metadata": {
        "id": "wqcPlvxcWzMI"
      },
      "outputs": [],
      "source": [
        "df[\"age\"].hist()"
      ]
    },
    {
      "cell_type": "code",
      "execution_count": null,
      "metadata": {
        "id": "pR8VRdCWYS6W"
      },
      "outputs": [],
      "source": [
        "cut_labels = ['young', 'teen', 'adult', 'senior']\n",
        "cut_bins = [0, 13, 25, 61, 100]\n",
        "df['age_group'] = pd.cut(df['age'], bins=cut_bins, labels=cut_labels)"
      ]
    },
    {
      "cell_type": "code",
      "execution_count": null,
      "metadata": {
        "id": "KRvT397KY9wJ"
      },
      "outputs": [],
      "source": [
        "df"
      ]
    },
    {
      "cell_type": "code",
      "execution_count": null,
      "metadata": {
        "id": "UEKfbt3WYyIO"
      },
      "outputs": [],
      "source": [
        "df.boxplot(column=\"age\", by=\"age_group\")"
      ]
    },
    {
      "cell_type": "markdown",
      "metadata": {
        "id": "m2MPwcX3WGhs"
      },
      "source": [
        "## Infer Missing Values (II)"
      ]
    },
    {
      "cell_type": "code",
      "execution_count": null,
      "metadata": {
        "id": "VNyGuloyWIO7"
      },
      "outputs": [],
      "source": [
        "df.info()"
      ]
    },
    {
      "cell_type": "code",
      "execution_count": null,
      "metadata": {
        "id": "mB0Cq-y5WPIl"
      },
      "outputs": [],
      "source": [
        "df.boxplot(column=\"age\", by=\"job\")"
      ]
    },
    {
      "cell_type": "code",
      "execution_count": null,
      "metadata": {
        "id": "p78pN0hEZBiu"
      },
      "outputs": [],
      "source": [
        "ser = pd.Series(['a', 'a', 'a', 'b', 'b', 'b', 'c', 'c', 'd'])\n",
        "ser.mode()"
      ]
    },
    {
      "cell_type": "code",
      "execution_count": null,
      "metadata": {
        "id": "_FxqFsmDYp75"
      },
      "outputs": [],
      "source": [
        "def f_mode(dat):\n",
        "  if len(dat)>0:\n",
        "    return dat.mode().iloc[0]\n",
        "  else:\n",
        "    return \"\""
      ]
    },
    {
      "cell_type": "code",
      "execution_count": null,
      "metadata": {
        "id": "Ek1xCjdjY_rw"
      },
      "outputs": [],
      "source": [
        "f_mode(ser)"
      ]
    },
    {
      "cell_type": "code",
      "execution_count": null,
      "metadata": {
        "id": "fzxxFF4IZCWy"
      },
      "outputs": [],
      "source": [
        "df['job'].fillna(df.groupby('age_group')['job'].transform(f_mode))"
      ]
    },
    {
      "cell_type": "code",
      "execution_count": null,
      "metadata": {
        "id": "BKWzSN5UdXLY"
      },
      "outputs": [],
      "source": [
        "df['job'] = df['job'].fillna(df.groupby('age_group')['job'].transform(f_mode))"
      ]
    },
    {
      "cell_type": "code",
      "execution_count": null,
      "metadata": {
        "id": "OCYh0e6QZQdn"
      },
      "outputs": [],
      "source": [
        "df.info()"
      ]
    },
    {
      "cell_type": "code",
      "execution_count": null,
      "metadata": {
        "id": "35v_GbqrZWQt"
      },
      "outputs": [],
      "source": [
        "df.boxplot(column=\"age\", by=\"job\")"
      ]
    },
    {
      "cell_type": "markdown",
      "metadata": {
        "id": "0VLU363qeKj0"
      },
      "source": [
        "## Infer Missing Values (III)"
      ]
    },
    {
      "cell_type": "code",
      "execution_count": null,
      "metadata": {
        "id": "BZbqZZ_EeS6-"
      },
      "outputs": [],
      "source": [
        "df.info()"
      ]
    },
    {
      "cell_type": "code",
      "execution_count": null,
      "metadata": {
        "id": "ZOdCLXhweWve"
      },
      "outputs": [],
      "source": [
        "df.plot.scatter(x=\"age\", y=\"salary\")"
      ]
    },
    {
      "cell_type": "code",
      "execution_count": null,
      "metadata": {
        "id": "b5ijBFj0rPWA"
      },
      "outputs": [],
      "source": [
        "df.sort_values(\"age\", inplace=True)"
      ]
    },
    {
      "cell_type": "code",
      "execution_count": null,
      "metadata": {
        "id": "LGxKXc6ZrekX"
      },
      "outputs": [],
      "source": [
        "df[\"salary\"] = df[\"salary\"].interpolate()"
      ]
    },
    {
      "cell_type": "code",
      "execution_count": null,
      "metadata": {
        "id": "MtidFN4gsA-Q"
      },
      "outputs": [],
      "source": [
        "df.info()"
      ]
    },
    {
      "cell_type": "code",
      "execution_count": null,
      "metadata": {
        "id": "JmU8Xv3arz8d"
      },
      "outputs": [],
      "source": [
        "df.plot.scatter(x=\"age\", y=\"salary\")"
      ]
    },
    {
      "cell_type": "markdown",
      "metadata": {
        "id": "vfTL2ht1sFyJ"
      },
      "source": [
        "## Log Scale"
      ]
    },
    {
      "cell_type": "code",
      "execution_count": null,
      "metadata": {
        "id": "hkS0ZKqbsHSE"
      },
      "outputs": [],
      "source": [
        "df[df['job']=='worker'].plot.scatter(x='age',y='salary')"
      ]
    },
    {
      "cell_type": "code",
      "execution_count": null,
      "metadata": {
        "id": "QYUpQwmStBEV"
      },
      "outputs": [],
      "source": [
        "df[\"salary_log\"] = df[\"salary\"].apply(np.log)"
      ]
    },
    {
      "cell_type": "code",
      "execution_count": null,
      "metadata": {
        "id": "Q1ZxZodhtIZX"
      },
      "outputs": [],
      "source": [
        "df[df['job']=='worker'].plot.scatter(x='age',y='salary_log')"
      ]
    },
    {
      "cell_type": "markdown",
      "metadata": {
        "id": "HMJoi-yOtVdw"
      },
      "source": [
        "## Binary Encoding"
      ]
    },
    {
      "cell_type": "code",
      "execution_count": null,
      "metadata": {
        "id": "imYVbaJGtXhp"
      },
      "outputs": [],
      "source": [
        "df[[\"gender\"]]"
      ]
    },
    {
      "cell_type": "code",
      "execution_count": null,
      "metadata": {
        "id": "b7ELaif3tZ41"
      },
      "outputs": [],
      "source": [
        "df[\"gender\"].unique()"
      ]
    },
    {
      "cell_type": "code",
      "execution_count": null,
      "metadata": {
        "id": "wvaaZMjmt0bq"
      },
      "outputs": [],
      "source": [
        "from sklearn.preprocessing import LabelEncoder"
      ]
    },
    {
      "cell_type": "code",
      "execution_count": null,
      "metadata": {
        "id": "KKKzCLh2tws5"
      },
      "outputs": [],
      "source": [
        "lb_make = LabelEncoder()"
      ]
    },
    {
      "cell_type": "code",
      "execution_count": null,
      "metadata": {
        "id": "RL6ZQf9_t2Wq"
      },
      "outputs": [],
      "source": [
        "df[\"gender_code\"] = lb_make.fit_transform(df[\"gender\"])"
      ]
    },
    {
      "cell_type": "code",
      "execution_count": null,
      "metadata": {
        "id": "ppYpaLfzt-_Q"
      },
      "outputs": [],
      "source": [
        "df"
      ]
    },
    {
      "cell_type": "markdown",
      "metadata": {
        "id": "8JpV2eixuNmc"
      },
      "source": [
        "## One-Hot Encoding"
      ]
    },
    {
      "cell_type": "code",
      "execution_count": null,
      "metadata": {
        "id": "2WABJ9LUuebq"
      },
      "outputs": [],
      "source": [
        "df[[\"payment\"]]"
      ]
    },
    {
      "cell_type": "code",
      "execution_count": null,
      "metadata": {
        "id": "P4xOFvSCuiNh"
      },
      "outputs": [],
      "source": [
        "df['payment'].unique()"
      ]
    },
    {
      "cell_type": "code",
      "execution_count": null,
      "metadata": {
        "id": "p4LkzS_LuSda"
      },
      "outputs": [],
      "source": [
        "df = pd.get_dummies(df, columns=[\"payment\"])"
      ]
    },
    {
      "cell_type": "code",
      "execution_count": null,
      "metadata": {
        "id": "sJngVWEVul0E"
      },
      "outputs": [],
      "source": [
        "df"
      ]
    },
    {
      "cell_type": "code",
      "execution_count": null,
      "metadata": {
        "id": "wKEI-5hXutSF"
      },
      "outputs": [],
      "source": [
        "df[[\"payment_cash\", \"payment_cheque\", \"payment_credit\"]]"
      ]
    },
    {
      "cell_type": "markdown",
      "metadata": {
        "id": "Dw7WNKryu9Rc"
      },
      "source": [
        "## Text Extraction"
      ]
    },
    {
      "cell_type": "code",
      "execution_count": null,
      "metadata": {
        "id": "rBlKhCGKu8Pw"
      },
      "outputs": [],
      "source": [
        "df[[\"address\"]]"
      ]
    },
    {
      "cell_type": "code",
      "execution_count": null,
      "metadata": {
        "id": "gGoxUrHWxZ7T"
      },
      "outputs": [],
      "source": [
        "\"14/24, ปทุมวัน, กรุงเทพ\".split(\", \")"
      ]
    },
    {
      "cell_type": "code",
      "execution_count": null,
      "metadata": {
        "id": "ZBON91lhvHrz"
      },
      "outputs": [],
      "source": [
        "\"14/24, ปทุมวัน, กรุงเทพ\".split(\", \")[-1]"
      ]
    },
    {
      "cell_type": "code",
      "execution_count": null,
      "metadata": {
        "id": "TZ-Ts4btvQ2D"
      },
      "outputs": [],
      "source": [
        "df[\"address\"].str.split(\", \").str[-1]"
      ]
    },
    {
      "cell_type": "code",
      "execution_count": null,
      "metadata": {
        "id": "P0v8-NCLv_Nn"
      },
      "outputs": [],
      "source": [
        "df[\"city\"] = df[\"address\"].str.split(\", \").str[-1]"
      ]
    },
    {
      "cell_type": "code",
      "execution_count": null,
      "metadata": {
        "id": "05Fdz1CTwCzp"
      },
      "outputs": [],
      "source": [
        "df"
      ]
    },
    {
      "cell_type": "markdown",
      "metadata": {
        "id": "Tn5Tb0DTwT3e"
      },
      "source": [
        "\n",
        "\n",
        "---\n",
        "https://rathachai.creatier.pro/\n",
        "\n",
        "## つづく"
      ]
    }
  ],
  "metadata": {
    "colab": {
      "name": "quick-data-wrangling-tutorial.ipynb",
      "provenance": []
    },
    "kernelspec": {
      "display_name": "Python 3.8.10 64-bit (windows store)",
      "language": "python",
      "name": "python3"
    },
    "language_info": {
      "codemirror_mode": {
        "name": "ipython",
        "version": 3
      },
      "file_extension": ".py",
      "mimetype": "text/x-python",
      "name": "python",
      "nbconvert_exporter": "python",
      "pygments_lexer": "ipython3",
      "version": "3.8.10"
    },
    "vscode": {
      "interpreter": {
        "hash": "95a22eaad15357b8581a3e85dc7deb44b392b83f2a0c98c7572069d11874febe"
      }
    }
  },
  "nbformat": 4,
  "nbformat_minor": 0
}
